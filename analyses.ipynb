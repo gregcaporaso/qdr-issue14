{
 "metadata": {
  "name": "",
  "signature": "sha256:8ae13eaa7c11f9700542ff1a759b948c911d24f9a25ade4602dde4d4dc2f6b03"
 },
 "nbformat": 3,
 "nbformat_minor": 0,
 "worksheets": [
  {
   "cells": [
    {
     "cell_type": "markdown",
     "metadata": {},
     "source": [
      "In an additional test of PyNAST alignment of V2 sequences with the core set versus the PyNAST 85% OTU alignment added in #15, I find that only slightly more sequences fail to align with the PyNAST 85% OTU alignment than with the old core set. Details of my test follow. Since we don't have an inherent way to say which is better (i.e., it's possible that we want those additional sequences to fail), and we have complete understanding of how the PyNAST 85% OTU alignment was generated (which is not true for the core set), we'll move forward with the plan to use the PyNAST 85% OTU alignment as the default reference template alignment. \n",
      "\n",
      "# V2 sequence collection\n",
      "\n",
      "My first test was performed with the V2 sequences deposited under study id ``449`` in the QIIME database (the [Costello Whole Body](http://www.sciencemag.org/content/326/5960/1694.abstract)) dataset. I ran the following command to align representative sequences against the PyNAST 85% OTU alignment:"
     ]
    },
    {
     "cell_type": "code",
     "collapsed": false,
     "input": [
      "!rm -r output"
     ],
     "language": "python",
     "metadata": {},
     "outputs": [],
     "prompt_number": 13
    },
    {
     "cell_type": "code",
     "collapsed": false,
     "input": [
      "from os.path import join, abspath\n",
      "\n",
      "core_set_template_fp = abspath(\"data/core_set_aligned.fasta.imputed\")\n",
      "rep_set_449_fp = abspath(\"data/rep_set.449.fna\")\n",
      "rep_set_449_out_dir = abspath(\"output/449_out\")\n",
      "rep_set_550_fp = abspath(\"data/rep_set.550.1.fna\")\n",
      "rep_set_550_out_dir = abspath(\"output/550_out\")"
     ],
     "language": "python",
     "metadata": {},
     "outputs": [],
     "prompt_number": 14
    },
    {
     "cell_type": "code",
     "collapsed": false,
     "input": [
      "pyn_out_qdr = join(rep_set_449_out_dir, \"qdr012\")\n",
      "!parallel_align_seqs_pynast.py -i $rep_set_449_fp -o $pyn_out_qdr --jobs_to_start 8\n",
      "fasta_fps = join(pyn_out_qdr, \"*fasta\")\n",
      "!count_seqs.py -i \"$fasta_fps\""
     ],
     "language": "python",
     "metadata": {},
     "outputs": [
      {
       "output_type": "stream",
       "stream": "stdout",
       "text": [
        "\r\n",
        "204  : /home/ubuntu/qdr-issue14/output/449_out/qdr012/rep_set.449_failures.fasta (Sequence lengths (mean +/- std): 181.9706 +/- 56.2609)\r\n",
        "10200  : /home/ubuntu/qdr-issue14/output/449_out/qdr012/rep_set.449_aligned.fasta (Sequence lengths (mean +/- std): 7682.0000 +/- 0.0000)\r\n",
        "10404  : Total\r\n"
       ]
      }
     ],
     "prompt_number": 15
    },
    {
     "cell_type": "markdown",
     "metadata": {},
     "source": [
      "This tells us that 204 sequences failed to align with PyNAST out of 10404. \n",
      "\n",
      "Next, we perform the same alignment against the core set. "
     ]
    },
    {
     "cell_type": "code",
     "collapsed": false,
     "input": [
      "pyn_out_core = join(rep_set_449_out_dir, \"core-set\")\n",
      "!parallel_align_seqs_pynast.py -i $rep_set_449_fp -o $pyn_out_core --jobs_to_start 8 -t $core_set_template_fp\n",
      "fasta_fps = join(pyn_out_core, \"*fasta\")\n",
      "!count_seqs.py -i \"$fasta_fps\""
     ],
     "language": "python",
     "metadata": {},
     "outputs": [
      {
       "output_type": "stream",
       "stream": "stdout",
       "text": [
        "\r\n",
        "171  : /home/ubuntu/qdr-issue14/output/449_out/core-set/rep_set.449_failures.fasta (Sequence lengths (mean +/- std): 166.0292 +/- 46.7550)\r\n",
        "10233  : /home/ubuntu/qdr-issue14/output/449_out/core-set/rep_set.449_aligned.fasta (Sequence lengths (mean +/- std): 7682.0000 +/- 0.0000)\r\n",
        "10404  : Total\r\n"
       ]
      }
     ],
     "prompt_number": 16
    },
    {
     "cell_type": "markdown",
     "metadata": {},
     "source": [
      "This tells us that 171 sequences failed to align with PyNAST out of 10404, so slightly less when aligning against the core set.\n",
      "\n",
      "However, it's important to note that different sequences failed to align with the two data sets (i.e., the sequences that fail to align against the core set are not a subset of the sequences that fail to align against the 85% PyNAST-aligned OTUs). We therefore don't immediately know which is better."
     ]
    },
    {
     "cell_type": "code",
     "collapsed": false,
     "input": [
      "# find the sequences that didn't align against the 85% PyNAST-aligned OTUs\n",
      "# but did align against the core set\n",
      "!filter_fasta.py -f $pyn_out_qdr/rep_set.449_failures.fasta -o $pyn_out_qdr/failures-that-aligned-v-core-set.fasta -a $pyn_out_core/rep_set.449_aligned.fasta\n",
      "!count_seqs.py -i $pyn_out_qdr/failures-that-aligned-v-core-set.fasta"
     ],
     "language": "python",
     "metadata": {},
     "outputs": [
      {
       "output_type": "stream",
       "stream": "stdout",
       "text": [
        "\r\n",
        "47  : /home/ubuntu/qdr-issue14/output/449_out/qdr012/failures-that-aligned-v-core-set.fasta (Sequence lengths (mean +/- std): 256.3404 +/- 16.3086)\r\n",
        "47  : Total\r\n"
       ]
      }
     ],
     "prompt_number": 20
    },
    {
     "cell_type": "code",
     "collapsed": false,
     "input": [
      "# find the sequences that didn't align against the core set\n",
      "# but did align against the 85% PyNAST-aligned OTUs\n",
      "!filter_fasta.py -f $pyn_out_core/rep_set.449_failures.fasta -o $pyn_out_core/failures-that-aligned-v-pyn-85-otus.fasta -a $pyn_out_qdr/rep_set.449_aligned.fasta\n",
      "!count_seqs.py -i $pyn_out_core/failures-that-aligned-v-pyn-85-otus.fasta\n"
     ],
     "language": "python",
     "metadata": {},
     "outputs": [
      {
       "output_type": "stream",
       "stream": "stdout",
       "text": [
        "\r\n",
        "14  : /home/ubuntu/qdr-issue14/output/449_out/core-set/failures-that-aligned-v-pyn-85-otus.fasta (Sequence lengths (mean +/- std): 236.9286 +/- 11.0677)\r\n",
        "14  : Total\r\n"
       ]
      }
     ],
     "prompt_number": 21
    },
    {
     "cell_type": "markdown",
     "metadata": {},
     "source": [
      "I want to investigate what those hit, and will follow up on this issue when I have time to redo."
     ]
    },
    {
     "cell_type": "markdown",
     "metadata": {},
     "source": [
      "\n",
      "\n",
      "\n",
      "\n",
      "\n",
      "\n",
      "\n",
      "\n",
      "\n",
      "\n",
      "\n",
      "```bash\n",
      "$ parallel_blast.py -i /home/caporaso/analysis/whole-body/or-otus/pynast_aligned_seqs_core_set/failures-that-aligned-v-pyn-85-otus.fasta -o /home/caporaso/analysis/whole-body/or-otus/pynast_aligned_seqs_core_set/failures-that-aligned-v-pyn-85-otus-blast-results/ -b /data/blast/nt -O 10\n",
      "$ grep -v '^#' pynast_aligned_seqs/failures-that-aligned-v-core-set-blast-results/failures-that-aligned-v-core-set_blast_out.txt\n",
      "New.CleanUp.ReferenceOTU10449\tgi|238404362|gb|GQ002078.1|\t100.00\t150\t0\t0\t1\t150\t317\t168\t3e-77\t 297\n",
      "New.CleanUp.ReferenceOTU10796\tgi|296967670|gb|HM274075.1|\t100.00\t132\t0\t0\t1\t132\t317\t186\t1e-66\t 262\n",
      "New.CleanUp.ReferenceOTU11004\tgi|322225548|gb|JF240143.1|\t100.00\t148\t0\t0\t1\t148\t317\t170\t4e-76\t 293\n",
      "New.CleanUp.ReferenceOTU11548\tgi|344263683|gb|JN382529.1|\t96.95\t164\t1\t3\t1\t164\t304\t145\t3e-67\t 264\n",
      "New.CleanUp.ReferenceOTU12392\tgi|322226988|gb|JF241583.1|\t100.00\t158\t0\t0\t1\t158\t317\t160\t4e-82\t 313\n",
      "New.CleanUp.ReferenceOTU12511\tgi|322128498|gb|JF143092.1|\t99.36\t156\t0\t1\t1\t155\t317\t162\t4e-76\t 293\n",
      "New.CleanUp.ReferenceOTU12532\tgi|297354760|gb|HM084636.1|\t98.94\t188\t2\t0\t4\t191\t202\t15\t4e-95\t 357\n",
      "New.CleanUp.ReferenceOTU13882\tgi|326833420|gb|JF487288.1|\t96.91\t194\t1\t4\t1\t194\t201\t13\t3e-80\t 307\n",
      "New.CleanUp.ReferenceOTU14202\tgi|460693648|gb|JX812596.1|\t98.79\t165\t0\t1\t1\t165\t317\t155\t1e-79\t 305\n",
      "New.CleanUp.ReferenceOTU15614\tgi|399187736|gb|JQ461075.1|\t100.00\t141\t0\t0\t1\t141\t330\t190\t6e-72\t 280\n",
      "New.CleanUp.ReferenceOTU16729\tgi|322187448|gb|JF202043.1|\t100.00\t182\t0\t0\t1\t182\t305\t124\t2e-96\t 361\n",
      "New.CleanUp.ReferenceOTU17453\tgi|297367873|gb|HM097749.1|\t99.31\t145\t1\t0\t1\t145\t245\t101\t6e-72\t 280\n",
      "New.CleanUp.ReferenceOTU18041\tgi|545339281|gb|KF502513.1|\t99.04\t209\t0\t2\t1\t209\t174\t380\t6e-103\t 383\n",
      "New.CleanUp.ReferenceOTU18339\tgi|297368394|gb|HM098270.1|\t100.00\t184\t0\t0\t1\t184\t237\t54\t2e-97\t 365\n",
      "New.CleanUp.ReferenceOTU18724\tgi|385889132|gb|JQ726783.1|\t99.44\t179\t0\t1\t1\t178\t312\t134\t8e-90\t 339\n",
      "New.CleanUp.ReferenceOTU1891\tgi|399204424|gb|JQ477763.1|\t96.24\t186\t2\t3\t1\t186\t348\t168\t4e-76\t 293\n",
      "New.CleanUp.ReferenceOTU2098\tgi|290733018|gb|GU536833.1|\t100.00\t162\t0\t0\t1\t162\t326\t165\t2e-84\t 321\n",
      "New.CleanUp.ReferenceOTU21175\tgi|545342750|gb|KF505982.1|\t100.00\t141\t0\t0\t1\t141\t182\t322\t6e-72\t 280\n",
      "New.CleanUp.ReferenceOTU21766\tgi|322194586|gb|JF209181.1|\t100.00\t180\t0\t0\t1\t180\t308\t129\t4e-95\t 357\n",
      "New.CleanUp.ReferenceOTU21849\tgi|238268948|gb|GQ037048.1|\t100.00\t155\t0\t0\t1\t155\t316\t162\t3e-80\t 307\n",
      "New.CleanUp.ReferenceOTU22455\tgi|270087661|gb|GQ949123.1|\t98.45\t193\t0\t2\t1\t193\t229\t40\t1e-91\t 345\n",
      "New.CleanUp.ReferenceOTU22842\tgi|238283618|gb|GQ063996.1|\t98.63\t146\t0\t2\t1\t146\t298\t155\t2e-65\t 258\n",
      "New.CleanUp.ReferenceOTU22953\tgi|214017914|gb|FJ363527.1|\t100.00\t181\t0\t0\t1\t181\t340\t160\t9e-96\t 359\n",
      "New.CleanUp.ReferenceOTU2306\tgi|297036657|gb|HM343062.1|\t98.80\t166\t0\t2\t1\t166\t326\t163\t3e-77\t 297\n",
      "New.CleanUp.ReferenceOTU23446\tgi|326814557|gb|JF468425.1|\t99.33\t150\t1\t0\t1\t150\t212\t63\t6e-75\t 289\n",
      "New.CleanUp.ReferenceOTU24551\tgi|402535884|gb|JX515809.1|\t97.95\t195\t1\t3\t1\t195\t192\t1\t2e-87\t 331\n",
      "New.CleanUp.ReferenceOTU24622\tgi|238305188|gb|GQ069011.1|\t100.00\t150\t0\t0\t1\t150\t317\t168\t3e-77\t 297\n",
      "New.CleanUp.ReferenceOTU24747\tgi|322226120|gb|JF240715.1|\t100.00\t148\t0\t0\t1\t148\t317\t170\t4e-76\t 293\n",
      "New.CleanUp.ReferenceOTU24753\tgi|326824061|gb|JF477929.1|\t94.25\t226\t1\t8\t1\t225\t221\t7\t6e-75\t 289\n",
      "New.CleanUp.ReferenceOTU303\tgi|295983658|gb|HM021376.1|\t100.00\t185\t0\t0\t1\t185\t300\t116\t3e-98\t 367\n",
      "New.CleanUp.ReferenceOTU3067\tgi|511487215|gb|KC999379.1|\t98.47\t196\t0\t3\t1\t196\t265\t73\t2e-90\t 341\n",
      "New.CleanUp.ReferenceOTU3375\tgi|478686098|gb|JX520102.1|\t100.00\t150\t0\t0\t1\t150\t278\t129\t3e-77\t 297\n",
      "New.CleanUp.ReferenceOTU3384\tgi|297361799|gb|HM091675.1|\t96.40\t222\t8\t0\t1\t222\t231\t10\t3e-101\t 377\n",
      "New.CleanUp.ReferenceOTU3739\tgi|558620814|gb|KF632504.1|\t100.00\t188\t0\t0\t1\t188\t198\t11\t6e-100\t 373\n",
      "New.CleanUp.ReferenceOTU4059\tgi|559795125|ref|NR_104711.1|\t100.00\t139\t0\t0\t1\t139\t298\t160\t1e-70\t 276\n",
      "New.CleanUp.ReferenceOTU4528\tgi|375112268|gb|JQ071822.1|\t99.31\t144\t1\t0\t1\t144\t260\t117\t3e-71\t 278\n",
      "New.CleanUp.ReferenceOTU5484\tgi|545341529|gb|KF504761.1|\t100.00\t144\t0\t0\t1\t144\t181\t324\t1e-73\t 285\n",
      "New.CleanUp.ReferenceOTU6173\tgi|409109600|gb|JX489915.1|\t96.74\t184\t6\t0\t1\t184\t338\t155\t3e-83\t 317\n",
      "New.CleanUp.ReferenceOTU6680\tgi|335334350|emb|FN658915.1|\t100.00\t144\t0\t0\t1\t144\t335\t192\t1e-73\t 285\n",
      "New.CleanUp.ReferenceOTU720\tgi|547220263|dbj|AB810555.1|\t100.00\t144\t0\t0\t1\t144\t236\t93\t1e-73\t 285\n",
      "New.CleanUp.ReferenceOTU7237\tgi|326814557|gb|JF468425.1|\t99.33\t150\t1\t0\t1\t150\t212\t63\t7e-75\t 289\n",
      "New.CleanUp.ReferenceOTU7455\tgi|326833420|gb|JF487288.1|\t95.15\t206\t5\t5\t1\t206\t201\t1\t6e-75\t 289\n",
      "New.CleanUp.ReferenceOTU7553\tgi|290741669|gb|GU545484.1|\t96.46\t198\t6\t1\t1\t198\t197\t1\t7e-87\t 329\n",
      "New.CleanUp.ReferenceOTU7914\tgi|322226988|gb|JF241583.1|\t100.00\t158\t0\t0\t1\t158\t317\t160\t5e-82\t 313\n",
      "New.CleanUp.ReferenceOTU7942\tgi|297357653|gb|HM087529.1|\t99.39\t164\t1\t0\t1\t164\t214\t51\t3e-83\t 317\n",
      "New.CleanUp.ReferenceOTU8857\tgi|459996585|gb|KC510222.1|\t98.26\t172\t3\t0\t1\t172\t334\t163\t3e-83\t 317\n",
      "New.CleanUp.ReferenceOTU9075\tgi|326815667|gb|JF469535.1|\t96.07\t178\t6\t1\t1\t177\t178\t1\t7e-75\t 289\n",
      "```\n",
      "\n",
      "```bash\n",
      "$ parallel_blast.py -i /home/caporaso/analysis/whole-body/or-otus/pynast_aligned_seqs/failures-that-aligned-v-core-set.fasta -o /home/caporaso/analysis/whole-body/or-otus/pynast_aligned_seqs/failures-that-aligned-v-core-set-blast-results/ -b /data/blast/nt -O 10\n",
      "$ grep -v '^#' pynast_aligned_seqs_core_set/failures-that-aligned-v-pyn-85-otus-blast-results/failures-that-aligned-v-pyn-85-otus_blast_out.txt\n",
      "New.CleanUp.ReferenceOTU11778\tgi|7670301|dbj|AB029368.1|\t100.00\t203\t0\t0\t1\t203\t503\t301\t5e-109\t 402\n",
      "New.CleanUp.ReferenceOTU14235\tgi|379462481|gb|JQ164969.1|\t97.87\t188\t2\t1\t1\t188\t317\t132\t1e-88\t 335\n",
      "New.CleanUp.ReferenceOTU14439\tgi|341989644|gb|JF554459.1|\t99.55\t223\t1\t0\t1\t223\t331\t109\t2e-118\t 434\n",
      "New.CleanUp.ReferenceOTU15749\tgi|545342948|gb|KF506180.1|\t97.24\t181\t4\t1\t1\t181\t155\t334\t2e-81\t 311\n",
      "New.CleanUp.ReferenceOTU16523\tgi|401661910|emb|FR714868.1|\t96.93\t228\t2\t4\t1\t228\t275674\t275452\t3e-98\t 367\n",
      "New.CleanUp.ReferenceOTU20112\tgi|545343825|gb|KF507057.1|\t99.37\t159\t0\t1\t1\t159\t154\t311\t6e-78\t 299\n",
      "New.CleanUp.ReferenceOTU20493\tgi|545343825|gb|KF507057.1|\t98.78\t164\t2\t0\t1\t164\t154\t317\t6e-81\t 309\n",
      "New.CleanUp.ReferenceOTU2210\tgi|154198989|gb|EF706223.1|\t98.78\t164\t2\t0\t1\t164\t255\t92\t7e-81\t 309\n",
      "New.CleanUp.ReferenceOTU2265\tgi|301286413|gb|HM785615.1|\t98.91\t183\t2\t0\t1\t183\t238\t56\t3e-92\t 347\n",
      "New.CleanUp.ReferenceOTU23577\tgi|322201028|gb|JF215623.1|\t100.00\t179\t0\t0\t1\t179\t311\t133\t1e-94\t 355\n",
      "New.CleanUp.ReferenceOTU24778\tgi|319496516|gb|HQ789377.1|\t98.35\t182\t3\t0\t1\t182\t308\t127\t3e-89\t 337\n",
      "New.CleanUp.ReferenceOTU2799\tgi|443301425|emb|HE613602.1|\t93.94\t231\t12\t2\t1\t230\t353\t124\t2e-87\t 331\n",
      "New.CleanUp.ReferenceOTU5311\tgi|322201028|gb|JF215623.1|\t100.00\t179\t0\t0\t1\t179\t311\t133\t1e-94\t 355\n",
      "New.CleanUp.ReferenceOTU8921\tgi|322201028|gb|JF215623.1|\t99.44\t179\t1\t0\t1\t179\t311\t133\t3e-92\t 347\n",
      "```\n"
     ]
    },
    {
     "cell_type": "markdown",
     "metadata": {},
     "source": [
      "\n",
      "# V4 sequence collection\n",
      "\n",
      "My next test was performed with the V4 sequences deposited under study id ``550`` in the QIIME database (the [Moving Pictures](http://genomebiology.com/2011/12/5/r50)) dataset. I ran the following command to pick OTUs and perform PyNAST alignment against the PyNAST 85% OTU alignment:"
     ]
    },
    {
     "cell_type": "markdown",
     "metadata": {},
     "source": [
      "Delete me...\n",
      "\n",
      "```bash\n",
      "$ parallel_align_seqs_pynast.py -i $PWD/rep_set.fna -o $PWD/pynast_aligned_seqs_85_pyn --jobs_to_start 30\n",
      "$ count_seqs.py -i \"$PWD/pynast_aligned_seqs_85_pyn/rep_set_*fasta\"\n",
      "\n",
      "17246  : /home/caporaso/analysis/moving-pictures/or_otus/pynast_aligned_seqs_85_pyn/rep_set_failures.fasta (Sequence lengths (mean +/- std): 92.2641 +/- 17.1674)\n",
      "131449  : /home/caporaso/analysis/moving-pictures/or_otus/pynast_aligned_seqs_85_pyn/rep_set_aligned.fasta (Sequence lengths (mean +/- std): 7682.0000 +/- 0.0000)\n",
      "148695  : Total\n",
      "```"
     ]
    },
    {
     "cell_type": "code",
     "collapsed": false,
     "input": [
      "pyn_out_qdr = join(rep_set_550_out_dir, \"qdr012\")\n",
      "!parallel_align_seqs_pynast.py -i $rep_set_550_fp -o $pyn_out_qdr --jobs_to_start 8\n",
      "fasta_fps = join(pyn_out_qdr, \"*fasta\")\n",
      "!count_seqs.py -i \"$fasta_fps\""
     ],
     "language": "python",
     "metadata": {},
     "outputs": []
    },
    {
     "cell_type": "markdown",
     "metadata": {},
     "source": [
      "This is 11.6% failing to align against the 85% PyNAST-aligned OTUs. \n"
     ]
    },
    {
     "cell_type": "markdown",
     "metadata": {},
     "source": [
      "Delete me...\n",
      "\n",
      "```bash\n",
      "$ parallel_align_seqs_pynast.py -i $PWD/rep_set.fna -o $PWD/pynast_aligned_seqs_core_set --jobs_to_start 30 -t /data/qiime_software/core_set_aligned.fasta.imputed\n",
      "$ count_seqs.py -i \"pynast_aligned_seqs_core_set/*fasta\"\n",
      "\n",
      "18487  : pynast_aligned_seqs_core_set/rep_set_failures.fasta (Sequence lengths (mean +/- std): 94.8743 +/- 19.5905)\n",
      "130208  : pynast_aligned_seqs_core_set/rep_set_aligned.fasta (Sequence lengths (mean +/- std): 7682.0000 +/- 0.0000)\n",
      "148695  : Total\n",
      "```"
     ]
    },
    {
     "cell_type": "code",
     "collapsed": false,
     "input": [
      "pyn_out_core = join(rep_set_550_out_dir, \"core-set\")\n",
      "!parallel_align_seqs_pynast.py -i $rep_set_550_fp -o $pyn_out_core --jobs_to_start 8 -t $core_set_template_fp\n",
      "fasta_fps = join(pyn_out_core, \"*fasta\")\n",
      "!count_seqs.py -i \"$fasta_fps\""
     ],
     "language": "python",
     "metadata": {},
     "outputs": []
    },
    {
     "cell_type": "markdown",
     "metadata": {},
     "source": [
      "\n",
      "\n",
      "\n",
      "\n",
      "\n",
      "This is 12.4% failing to align against the core set. "
     ]
    },
    {
     "cell_type": "markdown",
     "metadata": {},
     "source": [
      "The analyses presented here were originally described in [biocore/qiime-default-reference#14](https://github.com/biocore/qiime-default-reference/issues/14). These were ported to a separate repository for reproducibility."
     ]
    }
   ],
   "metadata": {}
  }
 ]
}